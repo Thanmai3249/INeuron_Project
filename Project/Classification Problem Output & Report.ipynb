{
 "cells": [
  {
   "cell_type": "markdown",
   "id": "9cfc680a",
   "metadata": {},
   "source": [
    "# Classification Problem\n",
    "\n",
    "# Attribute Information:\n",
    "\n",
    "Listing of attributes:\n",
    "\n",
    ">50K, <=50K.\n",
    "\n",
    "- age: continuous.\n",
    "- workclass: Private, Self-emp-not-inc, Self-emp-inc, Federal-gov, Local-gov, State-gov, Without-pay, Never-worked.\n",
    "- fnlwgt: continuous.\n",
    "- education: Bachelors, Some-college, 11th, HS-grad, Prof-school, Assoc-acdm, Assoc-voc, 9th, 7th-8th, 12th, Masters, 1st-4th, 10th, Doctorate, 5th-6th, Preschool.\n",
    "- education-num: continuous.\n",
    "- marital-status: Married-civ-spouse, Divorced, Never-married, Separated, Widowed, Married-spouse-absent, Married-AF-spouse.\n",
    "- occupation: Tech-support, Craft-repair, Other-service, Sales, Exec-managerial, Prof-specialty, Handlers-cleaners, Machine-op-inspct, Adm-clerical, Farming-fishing, Transport-moving, Priv-house-serv, Protective-serv, Armed-Forces.\n",
    "- relationship: Wife, Own-child, Husband, Not-in-family, Other-relative, Unmarried.\n",
    "- race: White, Asian-Pac-Islander, Amer-Indian-Eskimo, Other, Black.\n",
    "- sex: Female, Male.\n",
    "- capital-gain: continuous.\n",
    "- capital-loss: continuous.\n",
    "- hours-per-week: continuous.\n",
    "- native-country: United-States, Cambodia, England, Puerto-Rico, Canada, Germany, Outlying-US(Guam-USVI-etc), India, Japan, Greece, South, China, Cuba, Iran, Honduras, Philippines, Italy, Poland, Jamaica, Vietnam, Mexico, Portugal, Ireland, France, Dominican-Republic, Laos, Ecuador, Taiwan, Haiti, Columbia, Hungary, Guatemala, Nicaragua, Scotland, Thailand, Yugoslavia, El-Salvador, Trinadad&Tobago, Peru, Hong, Holand-Netherlands."
   ]
  },
  {
   "cell_type": "code",
   "execution_count": 1,
   "id": "175d7244",
   "metadata": {},
   "outputs": [],
   "source": [
    "import numpy as np\n",
    "import pandas as pd\n",
    "import matplotlib.pyplot as plt\n",
    "import seaborn as sns\n",
    "from EDA import data\n",
    "from standard_scalar import standardization\n",
    "from sklearn.model_selection import train_test_split\n",
    "from traintest_split import split\n",
    "from connection_db import database"
   ]
  },
  {
   "cell_type": "code",
   "execution_count": 2,
   "id": "0bdaa093",
   "metadata": {},
   "outputs": [],
   "source": [
    "#loading the dataset\n",
    "path = r\"C:\\Users\\Thanmai\\INEURON\\Income_data.xlsx\"\n",
    "obj = data()\n",
    "df = obj.load_data(path)\n",
    "df = df.drop('education', axis = 1)\n",
    "#taking random sample of 20,000 records from 48,000+ records\n",
    "df = df.sample(15000)"
   ]
  },
  {
   "cell_type": "code",
   "execution_count": 3,
   "id": "8db30b48",
   "metadata": {},
   "outputs": [
    {
     "data": {
      "text/plain": [
       "age                  0\n",
       "worktype           865\n",
       "fnlwgt               0\n",
       "education_num        0\n",
       "maritial_status      0\n",
       "occupation         868\n",
       "relationship         0\n",
       "race                 0\n",
       "gender               0\n",
       "capital_gain         0\n",
       "capital_loss         0\n",
       "hours_per_week       0\n",
       "native_country     269\n",
       "salary               0\n",
       "dtype: int64"
      ]
     },
     "execution_count": 3,
     "metadata": {},
     "output_type": "execute_result"
    }
   ],
   "source": [
    "df.isnull().sum()"
   ]
  },
  {
   "cell_type": "markdown",
   "id": "76ea5225",
   "metadata": {},
   "source": [
    "We have many null values in the dataset.\n",
    "\n",
    "Now, let's impute the dataset with most frequent values in the dataset."
   ]
  },
  {
   "cell_type": "code",
   "execution_count": 4,
   "id": "919bc7da",
   "metadata": {},
   "outputs": [],
   "source": [
    "imputed_df = obj.check_null(df)"
   ]
  },
  {
   "cell_type": "code",
   "execution_count": 5,
   "id": "a35611a5",
   "metadata": {},
   "outputs": [
    {
     "data": {
      "text/plain": [
       "age                0\n",
       "worktype           0\n",
       "fnlwgt             0\n",
       "education_num      0\n",
       "maritial_status    0\n",
       "occupation         0\n",
       "relationship       0\n",
       "race               0\n",
       "gender             0\n",
       "capital_gain       0\n",
       "capital_loss       0\n",
       "hours_per_week     0\n",
       "native_country     0\n",
       "salary             0\n",
       "dtype: int64"
      ]
     },
     "execution_count": 5,
     "metadata": {},
     "output_type": "execute_result"
    }
   ],
   "source": [
    "imputed_df.isnull().sum()"
   ]
  },
  {
   "cell_type": "markdown",
   "id": "16e893f5",
   "metadata": {},
   "source": [
    "I have successfully imputed the null values.\n",
    "\n",
    "Let's proceed with the label encoding."
   ]
  },
  {
   "cell_type": "code",
   "execution_count": 6,
   "id": "8dc7b775",
   "metadata": {},
   "outputs": [],
   "source": [
    "from Label_encoding import encoding\n",
    "obj2 = encoding()\n",
    "imputed_df = obj2.label_encoding(imputed_df)"
   ]
  },
  {
   "cell_type": "markdown",
   "id": "282c8d3a",
   "metadata": {},
   "source": [
    "I'm done with encoding, let's review the data."
   ]
  },
  {
   "cell_type": "code",
   "execution_count": 7,
   "id": "c4311044",
   "metadata": {},
   "outputs": [
    {
     "data": {
      "text/html": [
       "<div>\n",
       "<style scoped>\n",
       "    .dataframe tbody tr th:only-of-type {\n",
       "        vertical-align: middle;\n",
       "    }\n",
       "\n",
       "    .dataframe tbody tr th {\n",
       "        vertical-align: top;\n",
       "    }\n",
       "\n",
       "    .dataframe thead th {\n",
       "        text-align: right;\n",
       "    }\n",
       "</style>\n",
       "<table border=\"1\" class=\"dataframe\">\n",
       "  <thead>\n",
       "    <tr style=\"text-align: right;\">\n",
       "      <th></th>\n",
       "      <th>age</th>\n",
       "      <th>worktype</th>\n",
       "      <th>fnlwgt</th>\n",
       "      <th>education_num</th>\n",
       "      <th>maritial_status</th>\n",
       "      <th>occupation</th>\n",
       "      <th>relationship</th>\n",
       "      <th>race</th>\n",
       "      <th>gender</th>\n",
       "      <th>capital_gain</th>\n",
       "      <th>capital_loss</th>\n",
       "      <th>hours_per_week</th>\n",
       "      <th>native_country</th>\n",
       "      <th>salary</th>\n",
       "    </tr>\n",
       "  </thead>\n",
       "  <tbody>\n",
       "    <tr>\n",
       "      <th>0</th>\n",
       "      <td>9</td>\n",
       "      <td>3</td>\n",
       "      <td>6515</td>\n",
       "      <td>8</td>\n",
       "      <td>4</td>\n",
       "      <td>5</td>\n",
       "      <td>1</td>\n",
       "      <td>4</td>\n",
       "      <td>1</td>\n",
       "      <td>0</td>\n",
       "      <td>0</td>\n",
       "      <td>39</td>\n",
       "      <td>37</td>\n",
       "      <td>0</td>\n",
       "    </tr>\n",
       "    <tr>\n",
       "      <th>1</th>\n",
       "      <td>33</td>\n",
       "      <td>3</td>\n",
       "      <td>5782</td>\n",
       "      <td>12</td>\n",
       "      <td>0</td>\n",
       "      <td>7</td>\n",
       "      <td>1</td>\n",
       "      <td>4</td>\n",
       "      <td>1</td>\n",
       "      <td>0</td>\n",
       "      <td>0</td>\n",
       "      <td>39</td>\n",
       "      <td>37</td>\n",
       "      <td>0</td>\n",
       "    </tr>\n",
       "    <tr>\n",
       "      <th>2</th>\n",
       "      <td>33</td>\n",
       "      <td>3</td>\n",
       "      <td>10464</td>\n",
       "      <td>8</td>\n",
       "      <td>2</td>\n",
       "      <td>13</td>\n",
       "      <td>0</td>\n",
       "      <td>4</td>\n",
       "      <td>1</td>\n",
       "      <td>0</td>\n",
       "      <td>0</td>\n",
       "      <td>39</td>\n",
       "      <td>37</td>\n",
       "      <td>1</td>\n",
       "    </tr>\n",
       "    <tr>\n",
       "      <th>3</th>\n",
       "      <td>13</td>\n",
       "      <td>3</td>\n",
       "      <td>4037</td>\n",
       "      <td>12</td>\n",
       "      <td>2</td>\n",
       "      <td>9</td>\n",
       "      <td>0</td>\n",
       "      <td>4</td>\n",
       "      <td>1</td>\n",
       "      <td>0</td>\n",
       "      <td>0</td>\n",
       "      <td>39</td>\n",
       "      <td>37</td>\n",
       "      <td>3</td>\n",
       "    </tr>\n",
       "    <tr>\n",
       "      <th>4</th>\n",
       "      <td>18</td>\n",
       "      <td>3</td>\n",
       "      <td>9813</td>\n",
       "      <td>12</td>\n",
       "      <td>2</td>\n",
       "      <td>11</td>\n",
       "      <td>0</td>\n",
       "      <td>4</td>\n",
       "      <td>1</td>\n",
       "      <td>83</td>\n",
       "      <td>0</td>\n",
       "      <td>47</td>\n",
       "      <td>37</td>\n",
       "      <td>3</td>\n",
       "    </tr>\n",
       "  </tbody>\n",
       "</table>\n",
       "</div>"
      ],
      "text/plain": [
       "   age  worktype  fnlwgt  education_num  maritial_status  occupation  \\\n",
       "0    9         3    6515              8                4           5   \n",
       "1   33         3    5782             12                0           7   \n",
       "2   33         3   10464              8                2          13   \n",
       "3   13         3    4037             12                2           9   \n",
       "4   18         3    9813             12                2          11   \n",
       "\n",
       "   relationship  race  gender  capital_gain  capital_loss  hours_per_week  \\\n",
       "0             1     4       1             0             0              39   \n",
       "1             1     4       1             0             0              39   \n",
       "2             0     4       1             0             0              39   \n",
       "3             0     4       1             0             0              39   \n",
       "4             0     4       1            83             0              47   \n",
       "\n",
       "   native_country  salary  \n",
       "0              37       0  \n",
       "1              37       0  \n",
       "2              37       1  \n",
       "3              37       3  \n",
       "4              37       3  "
      ]
     },
     "execution_count": 7,
     "metadata": {},
     "output_type": "execute_result"
    }
   ],
   "source": [
    "imputed_df.head()"
   ]
  },
  {
   "cell_type": "markdown",
   "id": "9a437ff1",
   "metadata": {},
   "source": [
    "Now let's check the datatypes of all the features."
   ]
  },
  {
   "cell_type": "code",
   "execution_count": 8,
   "id": "c5b2cee1",
   "metadata": {},
   "outputs": [
    {
     "name": "stdout",
     "output_type": "stream",
     "text": [
      "<class 'pandas.core.frame.DataFrame'>\n",
      "RangeIndex: 15000 entries, 0 to 14999\n",
      "Data columns (total 14 columns):\n",
      " #   Column           Non-Null Count  Dtype\n",
      "---  ------           --------------  -----\n",
      " 0   age              15000 non-null  int32\n",
      " 1   worktype         15000 non-null  int32\n",
      " 2   fnlwgt           15000 non-null  int32\n",
      " 3   education_num    15000 non-null  int32\n",
      " 4   maritial_status  15000 non-null  int32\n",
      " 5   occupation       15000 non-null  int32\n",
      " 6   relationship     15000 non-null  int32\n",
      " 7   race             15000 non-null  int32\n",
      " 8   gender           15000 non-null  int32\n",
      " 9   capital_gain     15000 non-null  int32\n",
      " 10  capital_loss     15000 non-null  int32\n",
      " 11  hours_per_week   15000 non-null  int32\n",
      " 12  native_country   15000 non-null  int32\n",
      " 13  salary           15000 non-null  int32\n",
      "dtypes: int32(14)\n",
      "memory usage: 820.4 KB\n",
      "None\n",
      "                   count         mean          std  min     25%     50%  \\\n",
      "age              15000.0    21.658267    13.881443  0.0    11.0    20.0   \n",
      "worktype         15000.0     3.107533     1.127677  0.0     3.0     3.0   \n",
      "fnlwgt           15000.0  5873.652933  3399.953365  0.0  2983.0  5802.5   \n",
      "education_num    15000.0     9.085400     2.569776  0.0     8.0     9.0   \n",
      "maritial_status  15000.0     2.621667     1.505329  0.0     2.0     2.0   \n",
      "occupation       15000.0     5.731867     3.995277  0.0     2.0     6.0   \n",
      "relationship     15000.0     1.439600     1.598704  0.0     0.0     1.0   \n",
      "race             15000.0     3.661200     0.857475  0.0     4.0     4.0   \n",
      "gender           15000.0     0.672133     0.469452  0.0     0.0     1.0   \n",
      "capital_gain     15000.0     5.764667    20.894813  0.0     0.0     0.0   \n",
      "capital_loss     15000.0     1.804333     8.772524  0.0     0.0     0.0   \n",
      "hours_per_week   15000.0    39.080533    11.905597  0.0    39.0    39.0   \n",
      "native_country   15000.0    35.501200     5.805030  0.0    37.0    37.0   \n",
      "salary           15000.0     0.806000     0.972639  0.0     0.0     0.0   \n",
      "\n",
      "                    75%      max  \n",
      "age                31.0     72.0  \n",
      "worktype            3.0      7.0  \n",
      "fnlwgt           8747.0  11995.0  \n",
      "education_num      11.0     15.0  \n",
      "maritial_status     4.0      6.0  \n",
      "occupation          9.0     13.0  \n",
      "relationship        3.0      5.0  \n",
      "race                4.0      4.0  \n",
      "gender              1.0      1.0  \n",
      "capital_gain        0.0    105.0  \n",
      "capital_loss        0.0     76.0  \n",
      "hours_per_week     44.0     84.0  \n",
      "native_country     37.0     39.0  \n",
      "salary              1.0      3.0  \n"
     ]
    }
   ],
   "source": [
    "# Data info & Central tendencies\n",
    "obj.data_analysis(imputed_df)"
   ]
  },
  {
   "cell_type": "code",
   "execution_count": 9,
   "id": "09f9f7c2",
   "metadata": {},
   "outputs": [
    {
     "data": {
      "image/png": "[encoded data removed]",
      "text/plain": [
       "<Figure size 1224x72 with 1 Axes>"
      ]
     },
     "metadata": {
      "needs_background": "light"
     },
     "output_type": "display_data"
    },
    {
     "data": {
      "image/png": "[encoded data removed]",
      "text/plain": [
       "<Figure size 1224x72 with 1 Axes>"
      ]
     },
     "metadata": {
      "needs_background": "light"
     },
     "output_type": "display_data"
    },
    {
     "data": {
      "image/png": "[encoded data removed]",
      "text/plain": [
       "<Figure size 1224x72 with 1 Axes>"
      ]
     },
     "metadata": {
      "needs_background": "light"
     },
     "output_type": "display_data"
    },
    {
     "data": {
      "image/png": "[encoded data removed]",
      "text/plain": [
       "<Figure size 1224x72 with 1 Axes>"
      ]
     },
     "metadata": {
      "needs_background": "light"
     },
     "output_type": "display_data"
    },
    {
     "data": {
      "image/png": "[encoded data removed]",
      "text/plain": [
       "<Figure size 1224x72 with 1 Axes>"
      ]
     },
     "metadata": {
      "needs_background": "light"
     },
     "output_type": "display_data"
    },
    {
     "data": {
      "image/png": "[encoded data removed]",
      "text/plain": [
       "<Figure size 1224x72 with 1 Axes>"
      ]
     },
     "metadata": {
      "needs_background": "light"
     },
     "output_type": "display_data"
    },
    {
     "data": {
      "image/png": "[encoded data removed]",
      "text/plain": [
       "<Figure size 1224x72 with 1 Axes>"
      ]
     },
     "metadata": {
      "needs_background": "light"
     },
     "output_type": "display_data"
    },
    {
     "data": {
      "image/png": "[encoded data removed]",
      "text/plain": [
       "<Figure size 1224x72 with 1 Axes>"
      ]
     },
     "metadata": {
      "needs_background": "light"
     },
     "output_type": "display_data"
    },
    {
     "data": {
      "image/png": "[encoded data removed]",
      "text/plain": [
       "<Figure size 1224x72 with 1 Axes>"
      ]
     },
     "metadata": {
      "needs_background": "light"
     },
     "output_type": "display_data"
    },
    {
     "data": {
      "image/png": "[encoded data removed]",
      "text/plain": [
       "<Figure size 1224x72 with 1 Axes>"
      ]
     },
     "metadata": {
      "needs_background": "light"
     },
     "output_type": "display_data"
    },
    {
     "data": {
      "image/png": "[encoded data removed]",
      "text/plain": [
       "<Figure size 1224x72 with 1 Axes>"
      ]
     },
     "metadata": {
      "needs_background": "light"
     },
     "output_type": "display_data"
    },
    {
     "data": {
      "image/png": "[encoded data removed]",
      "text/plain": [
       "<Figure size 1224x72 with 1 Axes>"
      ]
     },
     "metadata": {
      "needs_background": "light"
     },
     "output_type": "display_data"
    },
    {
     "data": {
      "image/png": "[encoded data removed]",
      "text/plain": [
       "<Figure size 1224x72 with 1 Axes>"
      ]
     },
     "metadata": {
      "needs_background": "light"
     },
     "output_type": "display_data"
    },
    {
     "data": {
      "image/png": "[encoded data removed]",
      "text/plain": [
       "<Figure size 1224x72 with 1 Axes>"
      ]
     },
     "metadata": {
      "needs_background": "light"
     },
     "output_type": "display_data"
    }
   ],
   "source": [
    "# Let's check for outliers\n",
    "obj.outliers(imputed_df)"
   ]
  },
  {
   "cell_type": "markdown",
   "id": "61c7d34e",
   "metadata": {},
   "source": [
    "Even though there are outliers in the data, I don't want to manipulate the data. If we manipulate the outliers, there is a chance that we might loose some important data and that might effect the model.\n",
    "\n",
    "Here i'm establishing the connection to import the cleaned dataset into mongodb."
   ]
  },
  {
   "cell_type": "code",
   "execution_count": 10,
   "id": "46dfecc1",
   "metadata": {},
   "outputs": [
    {
     "name": "stdout",
     "output_type": "stream",
     "text": [
      "Database(MongoClient(host=['thanmai-shard-00-01.oczr5.mongodb.net:27017', 'thanmai-shard-00-02.oczr5.mongodb.net:27017', 'thanmai-shard-00-00.oczr5.mongodb.net:27017'], document_class=dict, tz_aware=False, connect=True, retrywrites=True, w='majority', authsource='admin', replicaset='atlas-efvwgk-shard-0', tls=True), 'test')\n"
     ]
    }
   ],
   "source": [
    "# Loading imputed data to Mongodb and exporting the data for model building\n",
    "obj2 = database()\n",
    "path = 'C:/Users/Thanmai/INEURON/Project//Income_data_json.json'\n",
    "database_name = 'Project'\n",
    "table_name = 'Income_data'\n",
    "obj2.connecting_mongodb(imputed_df, path, table_name, database_name)"
   ]
  },
  {
   "attachments": {
    "image.png": {
     "image/png": "[encoded data removed]"
    }
   },
   "cell_type": "markdown",
   "id": "87f02a34",
   "metadata": {},
   "source": [
    "I have successfully establised the connection and imported the cleaned data.\n",
    "![image.png](attachment:image.png)\n",
    "Now I have to fetch the data from database for model building."
   ]
  },
  {
   "cell_type": "code",
   "execution_count": 11,
   "id": "20fd0602",
   "metadata": {},
   "outputs": [],
   "source": [
    "data = obj2.fetch_data(table_name, database_name)"
   ]
  },
  {
   "cell_type": "markdown",
   "id": "e5b49735",
   "metadata": {},
   "source": [
    "I have successfully exported the data, but the data is in json format. So, we have convert the json data to pandas dataframe to use the dataset for model building."
   ]
  },
  {
   "cell_type": "code",
   "execution_count": 12,
   "id": "59dcfdf1",
   "metadata": {},
   "outputs": [],
   "source": [
    "import pandas as pd\n",
    "exported_df = pd.DataFrame(data)\n",
    "exported_df = exported_df.drop('_id', axis = 1)"
   ]
  },
  {
   "cell_type": "markdown",
   "id": "c4521e1a",
   "metadata": {},
   "source": [
    "I have successfully converted the json data to pandas dataframe.\n",
    "\n",
    "Let's proceed further by performing train test split."
   ]
  },
  {
   "cell_type": "code",
   "execution_count": 13,
   "id": "6efbcd3f",
   "metadata": {},
   "outputs": [],
   "source": [
    "# Train Test Split\n",
    "X = exported_df.drop('salary', axis = 1)\n",
    "y = exported_df['salary']\n",
    "obj3 = split()\n",
    "X_train, X_test, y_train, y_test = obj3.data_split(X,y)"
   ]
  },
  {
   "cell_type": "markdown",
   "id": "d1b97c7b",
   "metadata": {},
   "source": [
    "Let's check the length of the data."
   ]
  },
  {
   "cell_type": "code",
   "execution_count": 14,
   "id": "5110738a",
   "metadata": {},
   "outputs": [
    {
     "name": "stdout",
     "output_type": "stream",
     "text": [
      "10500 10500\n",
      "4500 4500\n"
     ]
    }
   ],
   "source": [
    "print(len(X_train), len(y_train))\n",
    "print(len(X_test), len(y_test))"
   ]
  },
  {
   "cell_type": "code",
   "execution_count": 15,
   "id": "ce2d13a1",
   "metadata": {},
   "outputs": [
    {
     "name": "stdout",
     "output_type": "stream",
     "text": [
      "[[ 0.1624646   1.663704    0.74354617 ... -0.20959007 -0.00716958\n",
      "   0.25433925]\n",
      " [ 1.24405114  1.663704    1.6579294  ... -0.20959007  0.83207866\n",
      "   0.25433925]\n",
      " [-0.48648733 -0.09851652 -0.36886012 ... -0.20959007 -0.00716958\n",
      "   0.25433925]\n",
      " ...\n",
      " [-1.20754502 -0.09851652 -1.61062968 ... -0.20959007 -0.84641782\n",
      "   0.25433925]\n",
      " [ 1.09983961  1.663704   -0.18733899 ... -0.20959007 -0.00716958\n",
      "   0.25433925]\n",
      " [ 0.59509922  2.54481426 -0.81411731 ... -0.20959007  0.83207866\n",
      "   0.25433925]]\n"
     ]
    }
   ],
   "source": [
    "# Standardization\n",
    "obj4 = standardization()\n",
    "X_train_transformed, X_test_transformed = obj4.standardize_data(X_train, X_test)"
   ]
  },
  {
   "cell_type": "code",
   "execution_count": 16,
   "id": "7566590f",
   "metadata": {},
   "outputs": [
    {
     "name": "stdout",
     "output_type": "stream",
     "text": [
      "Actual vs Predicted Values of Logistic regression Model\n"
     ]
    },
    {
     "data": {
      "text/html": [
       "<div>\n",
       "<style scoped>\n",
       "    .dataframe tbody tr th:only-of-type {\n",
       "        vertical-align: middle;\n",
       "    }\n",
       "\n",
       "    .dataframe tbody tr th {\n",
       "        vertical-align: top;\n",
       "    }\n",
       "\n",
       "    .dataframe thead th {\n",
       "        text-align: right;\n",
       "    }\n",
       "</style>\n",
       "<table border=\"1\" class=\"dataframe\">\n",
       "  <thead>\n",
       "    <tr style=\"text-align: right;\">\n",
       "      <th></th>\n",
       "      <th>Actual</th>\n",
       "      <th>Predicted</th>\n",
       "    </tr>\n",
       "  </thead>\n",
       "  <tbody>\n",
       "    <tr>\n",
       "      <th>1670</th>\n",
       "      <td>0</td>\n",
       "      <td>0</td>\n",
       "    </tr>\n",
       "    <tr>\n",
       "      <th>13379</th>\n",
       "      <td>1</td>\n",
       "      <td>0</td>\n",
       "    </tr>\n",
       "    <tr>\n",
       "      <th>10234</th>\n",
       "      <td>1</td>\n",
       "      <td>0</td>\n",
       "    </tr>\n",
       "    <tr>\n",
       "      <th>4719</th>\n",
       "      <td>1</td>\n",
       "      <td>0</td>\n",
       "    </tr>\n",
       "    <tr>\n",
       "      <th>7003</th>\n",
       "      <td>0</td>\n",
       "      <td>0</td>\n",
       "    </tr>\n",
       "    <tr>\n",
       "      <th>2831</th>\n",
       "      <td>1</td>\n",
       "      <td>0</td>\n",
       "    </tr>\n",
       "    <tr>\n",
       "      <th>13014</th>\n",
       "      <td>1</td>\n",
       "      <td>0</td>\n",
       "    </tr>\n",
       "    <tr>\n",
       "      <th>11979</th>\n",
       "      <td>0</td>\n",
       "      <td>0</td>\n",
       "    </tr>\n",
       "    <tr>\n",
       "      <th>8610</th>\n",
       "      <td>0</td>\n",
       "      <td>0</td>\n",
       "    </tr>\n",
       "    <tr>\n",
       "      <th>519</th>\n",
       "      <td>1</td>\n",
       "      <td>0</td>\n",
       "    </tr>\n",
       "  </tbody>\n",
       "</table>\n",
       "</div>"
      ],
      "text/plain": [
       "       Actual  Predicted\n",
       "1670        0          0\n",
       "13379       1          0\n",
       "10234       1          0\n",
       "4719        1          0\n",
       "7003        0          0\n",
       "2831        1          0\n",
       "13014       1          0\n",
       "11979       0          0\n",
       "8610        0          0\n",
       "519         1          0"
      ]
     },
     "execution_count": 16,
     "metadata": {},
     "output_type": "execute_result"
    }
   ],
   "source": [
    "#Logistic regression model \n",
    "from Logistic_regression import logistic\n",
    "obj5 = logistic()\n",
    "log_reg_pred = obj5.logistic_regression(X_train_transformed, y_train, X_test_transformed, y_test)\n",
    "print(\"Actual vs Predicted Values of Logistic regression Model\")\n",
    "dataset = pd.DataFrame({'Actual': y_test, 'Predicted': log_reg_pred})\n",
    "dataset.head(10)"
   ]
  },
  {
   "cell_type": "code",
   "execution_count": 17,
   "id": "70c764e0",
   "metadata": {},
   "outputs": [
    {
     "name": "stdout",
     "output_type": "stream",
     "text": [
      "Actual vs Predicted Values of Support vector classifier Model\n"
     ]
    },
    {
     "data": {
      "text/html": [
       "<div>\n",
       "<style scoped>\n",
       "    .dataframe tbody tr th:only-of-type {\n",
       "        vertical-align: middle;\n",
       "    }\n",
       "\n",
       "    .dataframe tbody tr th {\n",
       "        vertical-align: top;\n",
       "    }\n",
       "\n",
       "    .dataframe thead th {\n",
       "        text-align: right;\n",
       "    }\n",
       "</style>\n",
       "<table border=\"1\" class=\"dataframe\">\n",
       "  <thead>\n",
       "    <tr style=\"text-align: right;\">\n",
       "      <th></th>\n",
       "      <th>Actual</th>\n",
       "      <th>Predicted</th>\n",
       "    </tr>\n",
       "  </thead>\n",
       "  <tbody>\n",
       "    <tr>\n",
       "      <th>1670</th>\n",
       "      <td>0</td>\n",
       "      <td>0</td>\n",
       "    </tr>\n",
       "    <tr>\n",
       "      <th>13379</th>\n",
       "      <td>1</td>\n",
       "      <td>0</td>\n",
       "    </tr>\n",
       "    <tr>\n",
       "      <th>10234</th>\n",
       "      <td>1</td>\n",
       "      <td>0</td>\n",
       "    </tr>\n",
       "    <tr>\n",
       "      <th>4719</th>\n",
       "      <td>1</td>\n",
       "      <td>0</td>\n",
       "    </tr>\n",
       "    <tr>\n",
       "      <th>7003</th>\n",
       "      <td>0</td>\n",
       "      <td>0</td>\n",
       "    </tr>\n",
       "    <tr>\n",
       "      <th>2831</th>\n",
       "      <td>1</td>\n",
       "      <td>0</td>\n",
       "    </tr>\n",
       "    <tr>\n",
       "      <th>13014</th>\n",
       "      <td>1</td>\n",
       "      <td>0</td>\n",
       "    </tr>\n",
       "    <tr>\n",
       "      <th>11979</th>\n",
       "      <td>0</td>\n",
       "      <td>0</td>\n",
       "    </tr>\n",
       "    <tr>\n",
       "      <th>8610</th>\n",
       "      <td>0</td>\n",
       "      <td>0</td>\n",
       "    </tr>\n",
       "    <tr>\n",
       "      <th>519</th>\n",
       "      <td>1</td>\n",
       "      <td>0</td>\n",
       "    </tr>\n",
       "  </tbody>\n",
       "</table>\n",
       "</div>"
      ],
      "text/plain": [
       "       Actual  Predicted\n",
       "1670        0          0\n",
       "13379       1          0\n",
       "10234       1          0\n",
       "4719        1          0\n",
       "7003        0          0\n",
       "2831        1          0\n",
       "13014       1          0\n",
       "11979       0          0\n",
       "8610        0          0\n",
       "519         1          0"
      ]
     },
     "execution_count": 17,
     "metadata": {},
     "output_type": "execute_result"
    }
   ],
   "source": [
    "# Support vector classifier\n",
    "from svc import support_vector_classifier\n",
    "obj6 = support_vector_classifier()\n",
    "svc_pred = obj6.svm_classifier(X_train_transformed, y_train, X_test_transformed, y_test)\n",
    "print(\"Actual vs Predicted Values of Support vector classifier Model\")\n",
    "dataset = pd.DataFrame({'Actual': y_test, 'Predicted': svc_pred})\n",
    "dataset.head(10)"
   ]
  },
  {
   "cell_type": "code",
   "execution_count": 18,
   "id": "94665e0c",
   "metadata": {},
   "outputs": [
    {
     "name": "stdout",
     "output_type": "stream",
     "text": [
      "Actual vs Predicted Values of GridSearchCV Model\n"
     ]
    },
    {
     "data": {
      "text/html": [
       "<div>\n",
       "<style scoped>\n",
       "    .dataframe tbody tr th:only-of-type {\n",
       "        vertical-align: middle;\n",
       "    }\n",
       "\n",
       "    .dataframe tbody tr th {\n",
       "        vertical-align: top;\n",
       "    }\n",
       "\n",
       "    .dataframe thead th {\n",
       "        text-align: right;\n",
       "    }\n",
       "</style>\n",
       "<table border=\"1\" class=\"dataframe\">\n",
       "  <thead>\n",
       "    <tr style=\"text-align: right;\">\n",
       "      <th></th>\n",
       "      <th>Actual</th>\n",
       "      <th>Predicted</th>\n",
       "    </tr>\n",
       "  </thead>\n",
       "  <tbody>\n",
       "    <tr>\n",
       "      <th>1670</th>\n",
       "      <td>0</td>\n",
       "      <td>0</td>\n",
       "    </tr>\n",
       "    <tr>\n",
       "      <th>13379</th>\n",
       "      <td>1</td>\n",
       "      <td>0</td>\n",
       "    </tr>\n",
       "    <tr>\n",
       "      <th>10234</th>\n",
       "      <td>1</td>\n",
       "      <td>0</td>\n",
       "    </tr>\n",
       "    <tr>\n",
       "      <th>4719</th>\n",
       "      <td>1</td>\n",
       "      <td>0</td>\n",
       "    </tr>\n",
       "    <tr>\n",
       "      <th>7003</th>\n",
       "      <td>0</td>\n",
       "      <td>0</td>\n",
       "    </tr>\n",
       "    <tr>\n",
       "      <th>2831</th>\n",
       "      <td>1</td>\n",
       "      <td>0</td>\n",
       "    </tr>\n",
       "    <tr>\n",
       "      <th>13014</th>\n",
       "      <td>1</td>\n",
       "      <td>0</td>\n",
       "    </tr>\n",
       "    <tr>\n",
       "      <th>11979</th>\n",
       "      <td>0</td>\n",
       "      <td>0</td>\n",
       "    </tr>\n",
       "    <tr>\n",
       "      <th>8610</th>\n",
       "      <td>0</td>\n",
       "      <td>0</td>\n",
       "    </tr>\n",
       "    <tr>\n",
       "      <th>519</th>\n",
       "      <td>1</td>\n",
       "      <td>0</td>\n",
       "    </tr>\n",
       "  </tbody>\n",
       "</table>\n",
       "</div>"
      ],
      "text/plain": [
       "       Actual  Predicted\n",
       "1670        0          0\n",
       "13379       1          0\n",
       "10234       1          0\n",
       "4719        1          0\n",
       "7003        0          0\n",
       "2831        1          0\n",
       "13014       1          0\n",
       "11979       0          0\n",
       "8610        0          0\n",
       "519         1          0"
      ]
     },
     "execution_count": 18,
     "metadata": {},
     "output_type": "execute_result"
    }
   ],
   "source": [
    "# HYperparameter tuning using GridSearchCV\n",
    "grid_predictions = obj6.svm_classifier(X_train_transformed, y_train, X_test_transformed, y_test)\n",
    "print(\"Actual vs Predicted Values of GridSearchCV Model\")\n",
    "dataset = pd.DataFrame({'Actual': y_test, 'Predicted': grid_predictions})\n",
    "dataset.head(10)"
   ]
  },
  {
   "cell_type": "code",
   "execution_count": 19,
   "id": "b711781f",
   "metadata": {},
   "outputs": [
    {
     "name": "stdout",
     "output_type": "stream",
     "text": [
      "Actual vs Predicted Values of Support vector classifier using polynomial kernal Model\n"
     ]
    },
    {
     "data": {
      "text/html": [
       "<div>\n",
       "<style scoped>\n",
       "    .dataframe tbody tr th:only-of-type {\n",
       "        vertical-align: middle;\n",
       "    }\n",
       "\n",
       "    .dataframe tbody tr th {\n",
       "        vertical-align: top;\n",
       "    }\n",
       "\n",
       "    .dataframe thead th {\n",
       "        text-align: right;\n",
       "    }\n",
       "</style>\n",
       "<table border=\"1\" class=\"dataframe\">\n",
       "  <thead>\n",
       "    <tr style=\"text-align: right;\">\n",
       "      <th></th>\n",
       "      <th>Actual</th>\n",
       "      <th>Predicted</th>\n",
       "    </tr>\n",
       "  </thead>\n",
       "  <tbody>\n",
       "    <tr>\n",
       "      <th>1670</th>\n",
       "      <td>0</td>\n",
       "      <td>0</td>\n",
       "    </tr>\n",
       "    <tr>\n",
       "      <th>13379</th>\n",
       "      <td>1</td>\n",
       "      <td>0</td>\n",
       "    </tr>\n",
       "    <tr>\n",
       "      <th>10234</th>\n",
       "      <td>1</td>\n",
       "      <td>0</td>\n",
       "    </tr>\n",
       "    <tr>\n",
       "      <th>4719</th>\n",
       "      <td>1</td>\n",
       "      <td>0</td>\n",
       "    </tr>\n",
       "    <tr>\n",
       "      <th>7003</th>\n",
       "      <td>0</td>\n",
       "      <td>0</td>\n",
       "    </tr>\n",
       "    <tr>\n",
       "      <th>2831</th>\n",
       "      <td>1</td>\n",
       "      <td>0</td>\n",
       "    </tr>\n",
       "    <tr>\n",
       "      <th>13014</th>\n",
       "      <td>1</td>\n",
       "      <td>1</td>\n",
       "    </tr>\n",
       "    <tr>\n",
       "      <th>11979</th>\n",
       "      <td>0</td>\n",
       "      <td>0</td>\n",
       "    </tr>\n",
       "    <tr>\n",
       "      <th>8610</th>\n",
       "      <td>0</td>\n",
       "      <td>0</td>\n",
       "    </tr>\n",
       "    <tr>\n",
       "      <th>519</th>\n",
       "      <td>1</td>\n",
       "      <td>0</td>\n",
       "    </tr>\n",
       "  </tbody>\n",
       "</table>\n",
       "</div>"
      ],
      "text/plain": [
       "       Actual  Predicted\n",
       "1670        0          0\n",
       "13379       1          0\n",
       "10234       1          0\n",
       "4719        1          0\n",
       "7003        0          0\n",
       "2831        1          0\n",
       "13014       1          1\n",
       "11979       0          0\n",
       "8610        0          0\n",
       "519         1          0"
      ]
     },
     "execution_count": 19,
     "metadata": {},
     "output_type": "execute_result"
    }
   ],
   "source": [
    "# SVM Kernals\n",
    "# polynomial kernal\n",
    "from svm_kernals import kernals\n",
    "obj7 = kernals()\n",
    "polynomial_kernal_pred = obj7.polynomial_Kernal(X_train_transformed, y_train, X_test_transformed, y_test)\n",
    "print(\"Actual vs Predicted Values of Support vector classifier using polynomial kernal Model\")\n",
    "dataset = pd.DataFrame({'Actual': y_test, 'Predicted': polynomial_kernal_pred})\n",
    "dataset.head(10)"
   ]
  },
  {
   "cell_type": "code",
   "execution_count": 20,
   "id": "5e3cc9c4",
   "metadata": {
    "scrolled": false
   },
   "outputs": [
    {
     "name": "stdout",
     "output_type": "stream",
     "text": [
      "Actual vs Predicted Values of Support vector classifier using RBF kernal Model\n"
     ]
    },
    {
     "data": {
      "text/html": [
       "<div>\n",
       "<style scoped>\n",
       "    .dataframe tbody tr th:only-of-type {\n",
       "        vertical-align: middle;\n",
       "    }\n",
       "\n",
       "    .dataframe tbody tr th {\n",
       "        vertical-align: top;\n",
       "    }\n",
       "\n",
       "    .dataframe thead th {\n",
       "        text-align: right;\n",
       "    }\n",
       "</style>\n",
       "<table border=\"1\" class=\"dataframe\">\n",
       "  <thead>\n",
       "    <tr style=\"text-align: right;\">\n",
       "      <th></th>\n",
       "      <th>Actual</th>\n",
       "      <th>Predicted</th>\n",
       "    </tr>\n",
       "  </thead>\n",
       "  <tbody>\n",
       "    <tr>\n",
       "      <th>1670</th>\n",
       "      <td>0</td>\n",
       "      <td>0</td>\n",
       "    </tr>\n",
       "    <tr>\n",
       "      <th>13379</th>\n",
       "      <td>1</td>\n",
       "      <td>0</td>\n",
       "    </tr>\n",
       "    <tr>\n",
       "      <th>10234</th>\n",
       "      <td>1</td>\n",
       "      <td>0</td>\n",
       "    </tr>\n",
       "    <tr>\n",
       "      <th>4719</th>\n",
       "      <td>1</td>\n",
       "      <td>0</td>\n",
       "    </tr>\n",
       "    <tr>\n",
       "      <th>7003</th>\n",
       "      <td>0</td>\n",
       "      <td>0</td>\n",
       "    </tr>\n",
       "    <tr>\n",
       "      <th>2831</th>\n",
       "      <td>1</td>\n",
       "      <td>0</td>\n",
       "    </tr>\n",
       "    <tr>\n",
       "      <th>13014</th>\n",
       "      <td>1</td>\n",
       "      <td>0</td>\n",
       "    </tr>\n",
       "    <tr>\n",
       "      <th>11979</th>\n",
       "      <td>0</td>\n",
       "      <td>0</td>\n",
       "    </tr>\n",
       "    <tr>\n",
       "      <th>8610</th>\n",
       "      <td>0</td>\n",
       "      <td>0</td>\n",
       "    </tr>\n",
       "    <tr>\n",
       "      <th>519</th>\n",
       "      <td>1</td>\n",
       "      <td>0</td>\n",
       "    </tr>\n",
       "  </tbody>\n",
       "</table>\n",
       "</div>"
      ],
      "text/plain": [
       "       Actual  Predicted\n",
       "1670        0          0\n",
       "13379       1          0\n",
       "10234       1          0\n",
       "4719        1          0\n",
       "7003        0          0\n",
       "2831        1          0\n",
       "13014       1          0\n",
       "11979       0          0\n",
       "8610        0          0\n",
       "519         1          0"
      ]
     },
     "execution_count": 20,
     "metadata": {},
     "output_type": "execute_result"
    }
   ],
   "source": [
    "# RBF kernal\n",
    "rbf_kernal_pred = obj7.rbf_Kernal(X_train_transformed, y_train, X_test_transformed, y_test)\n",
    "print(\"Actual vs Predicted Values of Support vector classifier using RBF kernal Model\")\n",
    "dataset = pd.DataFrame({'Actual': y_test, 'Predicted': rbf_kernal_pred})\n",
    "dataset.head(10)"
   ]
  },
  {
   "cell_type": "code",
   "execution_count": 21,
   "id": "8b9f28a5",
   "metadata": {},
   "outputs": [
    {
     "name": "stdout",
     "output_type": "stream",
     "text": [
      "Actual vs Predicted Values of Support vector classifier using sigmoid kernal Model\n"
     ]
    },
    {
     "data": {
      "text/html": [
       "<div>\n",
       "<style scoped>\n",
       "    .dataframe tbody tr th:only-of-type {\n",
       "        vertical-align: middle;\n",
       "    }\n",
       "\n",
       "    .dataframe tbody tr th {\n",
       "        vertical-align: top;\n",
       "    }\n",
       "\n",
       "    .dataframe thead th {\n",
       "        text-align: right;\n",
       "    }\n",
       "</style>\n",
       "<table border=\"1\" class=\"dataframe\">\n",
       "  <thead>\n",
       "    <tr style=\"text-align: right;\">\n",
       "      <th></th>\n",
       "      <th>Actual</th>\n",
       "      <th>Predicted</th>\n",
       "    </tr>\n",
       "  </thead>\n",
       "  <tbody>\n",
       "    <tr>\n",
       "      <th>1670</th>\n",
       "      <td>0</td>\n",
       "      <td>0</td>\n",
       "    </tr>\n",
       "    <tr>\n",
       "      <th>13379</th>\n",
       "      <td>1</td>\n",
       "      <td>0</td>\n",
       "    </tr>\n",
       "    <tr>\n",
       "      <th>10234</th>\n",
       "      <td>1</td>\n",
       "      <td>0</td>\n",
       "    </tr>\n",
       "    <tr>\n",
       "      <th>4719</th>\n",
       "      <td>1</td>\n",
       "      <td>1</td>\n",
       "    </tr>\n",
       "    <tr>\n",
       "      <th>7003</th>\n",
       "      <td>0</td>\n",
       "      <td>0</td>\n",
       "    </tr>\n",
       "    <tr>\n",
       "      <th>2831</th>\n",
       "      <td>1</td>\n",
       "      <td>2</td>\n",
       "    </tr>\n",
       "    <tr>\n",
       "      <th>13014</th>\n",
       "      <td>1</td>\n",
       "      <td>1</td>\n",
       "    </tr>\n",
       "    <tr>\n",
       "      <th>11979</th>\n",
       "      <td>0</td>\n",
       "      <td>0</td>\n",
       "    </tr>\n",
       "    <tr>\n",
       "      <th>8610</th>\n",
       "      <td>0</td>\n",
       "      <td>0</td>\n",
       "    </tr>\n",
       "    <tr>\n",
       "      <th>519</th>\n",
       "      <td>1</td>\n",
       "      <td>0</td>\n",
       "    </tr>\n",
       "  </tbody>\n",
       "</table>\n",
       "</div>"
      ],
      "text/plain": [
       "       Actual  Predicted\n",
       "1670        0          0\n",
       "13379       1          0\n",
       "10234       1          0\n",
       "4719        1          1\n",
       "7003        0          0\n",
       "2831        1          2\n",
       "13014       1          1\n",
       "11979       0          0\n",
       "8610        0          0\n",
       "519         1          0"
      ]
     },
     "execution_count": 21,
     "metadata": {},
     "output_type": "execute_result"
    }
   ],
   "source": [
    "# sigmoid kernal\n",
    "sigmoid_kernal_pred = obj7.sigmoid_Kernal(X_train_transformed, y_train, X_test_transformed, y_test)\n",
    "print(\"Actual vs Predicted Values of Support vector classifier using sigmoid kernal Model\")\n",
    "dataset = pd.DataFrame({'Actual': y_test, 'Predicted': sigmoid_kernal_pred})\n",
    "dataset.head(10)"
   ]
  },
  {
   "cell_type": "code",
   "execution_count": 23,
   "id": "4f90cd9b",
   "metadata": {
    "scrolled": false
   },
   "outputs": [
    {
     "name": "stdout",
     "output_type": "stream",
     "text": [
      "Evaluating the classification models......................................\n",
      "Evaluating Logistic Regression Model.....................\n",
      "[[2188    0  137    0]\n",
      " [1052    0   57    0]\n",
      " [ 363    0  339    0]\n",
      " [ 212    0  152    0]]\n",
      "              precision    recall  f1-score   support\n",
      "\n",
      "           0       0.57      0.94      0.71      2325\n",
      "           1       0.00      0.00      0.00      1109\n",
      "           2       0.49      0.48      0.49       702\n",
      "           3       0.00      0.00      0.00       364\n",
      "\n",
      "    accuracy                           0.56      4500\n",
      "   macro avg       0.27      0.36      0.30      4500\n",
      "weighted avg       0.37      0.56      0.44      4500\n",
      "\n",
      "###################################################################################################################\n",
      "Evaluating Support Vector CLassification Model.....................\n",
      "[[2193    0  132    0]\n",
      " [1053    2   54    0]\n",
      " [ 330    1  371    0]\n",
      " [ 183    1  180    0]]\n",
      "              precision    recall  f1-score   support\n",
      "\n",
      "           0       0.58      0.94      0.72      2325\n",
      "           1       0.50      0.00      0.00      1109\n",
      "           2       0.50      0.53      0.52       702\n",
      "           3       0.00      0.00      0.00       364\n",
      "\n",
      "    accuracy                           0.57      4500\n",
      "   macro avg       0.40      0.37      0.31      4500\n",
      "weighted avg       0.50      0.57      0.45      4500\n",
      "\n",
      "###################################################################################################################\n",
      "Evaluating GridSearchCV.....................\n",
      "[[2193    0  132    0]\n",
      " [1053    2   54    0]\n",
      " [ 330    1  371    0]\n",
      " [ 183    1  180    0]]\n",
      "              precision    recall  f1-score   support\n",
      "\n",
      "           0       0.58      0.94      0.72      2325\n",
      "           1       0.50      0.00      0.00      1109\n",
      "           2       0.50      0.53      0.52       702\n",
      "           3       0.00      0.00      0.00       364\n",
      "\n",
      "    accuracy                           0.57      4500\n",
      "   macro avg       0.40      0.37      0.31      4500\n",
      "weighted avg       0.50      0.57      0.45      4500\n",
      "\n",
      "###################################################################################################################\n",
      "Evaluating Support Vector CLassification model using Polynomial Kernal.....................\n",
      "[[2094  155   47   29]\n",
      " [1013   55   27   14]\n",
      " [ 451   27  160   64]\n",
      " [ 240   17   76   31]]\n",
      "              precision    recall  f1-score   support\n",
      "\n",
      "           0       0.55      0.90      0.68      2325\n",
      "           1       0.22      0.05      0.08      1109\n",
      "           2       0.52      0.23      0.32       702\n",
      "           3       0.22      0.09      0.12       364\n",
      "\n",
      "    accuracy                           0.52      4500\n",
      "   macro avg       0.38      0.32      0.30      4500\n",
      "weighted avg       0.44      0.52      0.43      4500\n",
      "\n",
      "###################################################################################################################\n",
      "Evaluating Support Vector CLassification model using RBF Kernal.....................\n",
      "[[2193    0  132    0]\n",
      " [1053    2   54    0]\n",
      " [ 330    1  371    0]\n",
      " [ 183    1  180    0]]\n",
      "              precision    recall  f1-score   support\n",
      "\n",
      "           0       0.58      0.94      0.72      2325\n",
      "           1       0.50      0.00      0.00      1109\n",
      "           2       0.50      0.53      0.52       702\n",
      "           3       0.00      0.00      0.00       364\n",
      "\n",
      "    accuracy                           0.57      4500\n",
      "   macro avg       0.40      0.37      0.31      4500\n",
      "weighted avg       0.50      0.57      0.45      4500\n",
      "\n",
      "###################################################################################################################\n",
      "Evaluating Support Vector CLassification model using Sigmoid Kernal.....................\n",
      "[[1526  476  207  116]\n",
      " [ 724  242   85   58]\n",
      " [ 351   58  220   73]\n",
      " [ 204   26   90   44]]\n",
      "              precision    recall  f1-score   support\n",
      "\n",
      "           0       0.54      0.66      0.59      2325\n",
      "           1       0.30      0.22      0.25      1109\n",
      "           2       0.37      0.31      0.34       702\n",
      "           3       0.15      0.12      0.13       364\n",
      "\n",
      "    accuracy                           0.45      4500\n",
      "   macro avg       0.34      0.33      0.33      4500\n",
      "weighted avg       0.42      0.45      0.43      4500\n",
      "\n",
      "###################################################################################################################\n"
     ]
    },
    {
     "name": "stderr",
     "output_type": "stream",
     "text": [
      "C:\\Users\\Thanmai\\anaconda3\\lib\\site-packages\\sklearn\\metrics\\_classification.py:1248: UndefinedMetricWarning: Precision and F-score are ill-defined and being set to 0.0 in labels with no predicted samples. Use `zero_division` parameter to control this behavior.\n",
      "  _warn_prf(average, modifier, msg_start, len(result))\n",
      "C:\\Users\\Thanmai\\anaconda3\\lib\\site-packages\\sklearn\\metrics\\_classification.py:1248: UndefinedMetricWarning: Precision and F-score are ill-defined and being set to 0.0 in labels with no predicted samples. Use `zero_division` parameter to control this behavior.\n",
      "  _warn_prf(average, modifier, msg_start, len(result))\n",
      "C:\\Users\\Thanmai\\anaconda3\\lib\\site-packages\\sklearn\\metrics\\_classification.py:1248: UndefinedMetricWarning: Precision and F-score are ill-defined and being set to 0.0 in labels with no predicted samples. Use `zero_division` parameter to control this behavior.\n",
      "  _warn_prf(average, modifier, msg_start, len(result))\n",
      "C:\\Users\\Thanmai\\anaconda3\\lib\\site-packages\\sklearn\\metrics\\_classification.py:1248: UndefinedMetricWarning: Precision and F-score are ill-defined and being set to 0.0 in labels with no predicted samples. Use `zero_division` parameter to control this behavior.\n",
      "  _warn_prf(average, modifier, msg_start, len(result))\n",
      "C:\\Users\\Thanmai\\anaconda3\\lib\\site-packages\\sklearn\\metrics\\_classification.py:1248: UndefinedMetricWarning: Precision and F-score are ill-defined and being set to 0.0 in labels with no predicted samples. Use `zero_division` parameter to control this behavior.\n",
      "  _warn_prf(average, modifier, msg_start, len(result))\n",
      "C:\\Users\\Thanmai\\anaconda3\\lib\\site-packages\\sklearn\\metrics\\_classification.py:1248: UndefinedMetricWarning: Precision and F-score are ill-defined and being set to 0.0 in labels with no predicted samples. Use `zero_division` parameter to control this behavior.\n",
      "  _warn_prf(average, modifier, msg_start, len(result))\n",
      "C:\\Users\\Thanmai\\anaconda3\\lib\\site-packages\\sklearn\\metrics\\_classification.py:1248: UndefinedMetricWarning: Precision and F-score are ill-defined and being set to 0.0 in labels with no predicted samples. Use `zero_division` parameter to control this behavior.\n",
      "  _warn_prf(average, modifier, msg_start, len(result))\n",
      "C:\\Users\\Thanmai\\anaconda3\\lib\\site-packages\\sklearn\\metrics\\_classification.py:1248: UndefinedMetricWarning: Precision and F-score are ill-defined and being set to 0.0 in labels with no predicted samples. Use `zero_division` parameter to control this behavior.\n",
      "  _warn_prf(average, modifier, msg_start, len(result))\n",
      "C:\\Users\\Thanmai\\anaconda3\\lib\\site-packages\\sklearn\\metrics\\_classification.py:1248: UndefinedMetricWarning: Precision and F-score are ill-defined and being set to 0.0 in labels with no predicted samples. Use `zero_division` parameter to control this behavior.\n",
      "  _warn_prf(average, modifier, msg_start, len(result))\n",
      "C:\\Users\\Thanmai\\anaconda3\\lib\\site-packages\\sklearn\\metrics\\_classification.py:1248: UndefinedMetricWarning: Precision and F-score are ill-defined and being set to 0.0 in labels with no predicted samples. Use `zero_division` parameter to control this behavior.\n",
      "  _warn_prf(average, modifier, msg_start, len(result))\n",
      "C:\\Users\\Thanmai\\anaconda3\\lib\\site-packages\\sklearn\\metrics\\_classification.py:1248: UndefinedMetricWarning: Precision and F-score are ill-defined and being set to 0.0 in labels with no predicted samples. Use `zero_division` parameter to control this behavior.\n",
      "  _warn_prf(average, modifier, msg_start, len(result))\n",
      "C:\\Users\\Thanmai\\anaconda3\\lib\\site-packages\\sklearn\\metrics\\_classification.py:1248: UndefinedMetricWarning: Precision and F-score are ill-defined and being set to 0.0 in labels with no predicted samples. Use `zero_division` parameter to control this behavior.\n",
      "  _warn_prf(average, modifier, msg_start, len(result))\n"
     ]
    }
   ],
   "source": [
    "# Classification problem evaluation\n",
    "print('Evaluating the classification models......................................')\n",
    "from classification_evaluation import evaluation\n",
    "obj8 = evaluation()\n",
    "print('Evaluating Logistic Regression Model.....................')\n",
    "obj8.classification_evaluation(y_test, log_reg_pred)\n",
    "print('###################################################################################################################')\n",
    "print('Evaluating Support Vector CLassification Model.....................')\n",
    "obj8.classification_evaluation(y_test, svc_pred)\n",
    "print('###################################################################################################################')\n",
    "print('Evaluating GridSearchCV.....................')\n",
    "obj8.classification_evaluation(y_test, grid_predictions)\n",
    "print('###################################################################################################################')\n",
    "print('Evaluating Support Vector CLassification model using Polynomial Kernal.....................')\n",
    "obj8.classification_evaluation(y_test, polynomial_kernal_pred)\n",
    "print('###################################################################################################################')\n",
    "print('Evaluating Support Vector CLassification model using RBF Kernal.....................')\n",
    "obj8.classification_evaluation(y_test, rbf_kernal_pred)\n",
    "print('###################################################################################################################')\n",
    "print('Evaluating Support Vector CLassification model using Sigmoid Kernal.....................')\n",
    "obj8.classification_evaluation(y_test, sigmoid_kernal_pred)\n",
    "print('###################################################################################################################')"
   ]
  },
  {
   "cell_type": "code",
   "execution_count": null,
   "id": "2d0d5e8d",
   "metadata": {},
   "outputs": [],
   "source": []
  },
  {
   "cell_type": "code",
   "execution_count": null,
   "id": "863b9bfb",
   "metadata": {},
   "outputs": [],
   "source": []
  },
  {
   "cell_type": "code",
   "execution_count": null,
   "id": "a1ee1a54",
   "metadata": {},
   "outputs": [],
   "source": []
  },
  {
   "cell_type": "code",
   "execution_count": null,
   "id": "7cfd4054",
   "metadata": {},
   "outputs": [],
   "source": []
  },
  {
   "cell_type": "code",
   "execution_count": null,
   "id": "6fa4ef39",
   "metadata": {},
   "outputs": [],
   "source": []
  }
 ],
 "metadata": {
  "kernelspec": {
   "display_name": "Python 3 (ipykernel)",
   "language": "python",
   "name": "python3"
  },
  "language_info": {
   "codemirror_mode": {
    "name": "ipython",
    "version": 3
   },
   "file_extension": ".py",
   "mimetype": "text/x-python",
   "name": "python",
   "nbconvert_exporter": "python",
   "pygments_lexer": "ipython3",
   "version": "3.9.7"
  }
 },
 "nbformat": 4,
 "nbformat_minor": 5
}
